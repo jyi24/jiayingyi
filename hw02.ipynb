{
  "nbformat": 4,
  "nbformat_minor": 0,
  "metadata": {
    "colab": {
      "name": "hw02.ipynb",
      "version": "0.3.2",
      "provenance": []
    },
    "kernelspec": {
      "name": "python3",
      "display_name": "Python 3"
    }
  },
  "cells": [
    {
      "cell_type": "code",
      "metadata": {
        "id": "1wNXd6JaQk2r",
        "colab_type": "code",
        "outputId": "48e57bf3-6962-4cf3-955c-38f05d6cd10c",
        "colab": {
          "base_uri": "https://localhost:8080/",
          "height": 51
        }
      },
      "source": [
        "x = np.array([1, 2, 3, 4, 5])\n",
        "y = np.array([2, 4, 5.9, 8.1, 9.9])\n",
        "print(x)\n",
        "print(y)"
      ],
      "execution_count": 0,
      "outputs": [
        {
          "output_type": "stream",
          "text": [
            "[1 2 3 4 5]\n",
            "[2.  4.  5.9 8.1 9.9]\n"
          ],
          "name": "stdout"
        }
      ]
    },
    {
      "cell_type": "code",
      "metadata": {
        "id": "ch9LrtAJS8AK",
        "colab_type": "code",
        "outputId": "ca18b55b-2aa1-4cef-caa8-0f4a09559db8",
        "colab": {
          "base_uri": "https://localhost:8080/",
          "height": 34
        }
      },
      "source": [
        "a = []\n",
        "b = []\n",
        "c = []\n",
        "d = []\n",
        "e = []\n",
        "for i in range(5):\n",
        "    a.append(x[i] - np.mean(x))\n",
        "    b.append(y[i] - np.mean(y))\n",
        "    c.append((x[i] - np.mean(x))**2)\n",
        "    d.append(a[i]*b[i])\n",
        "    e.append((y[i] - np.mean(y))**2)\n",
        "\n",
        "beta1 = np.sum(d) / np.sum(c)\n",
        "beta0 = np.mean(y) - np.mean(x)*beta1\n",
        "\n",
        "r = np.sum(d) / np.sqrt(np.sum(c) * np.sum(e))\n",
        "                        \n",
        "print(r)"
      ],
      "execution_count": 0,
      "outputs": [
        {
          "output_type": "stream",
          "text": [
            "0.9996592737384135\n"
          ],
          "name": "stdout"
        }
      ]
    },
    {
      "cell_type": "code",
      "metadata": {
        "id": "pblgCRPEX-qH",
        "colab_type": "code",
        "outputId": "eb0ed5f8-4ed7-4485-be28-b21f5d0c1323",
        "colab": {
          "base_uri": "https://localhost:8080/",
          "height": 34
        }
      },
      "source": [
        "!ls\n",
        "! if [ ! -e kirby21.csv ] ; \\\n",
        "  then wget https://raw.githubusercontent.com/bcaffo/ds4bme_intro/master/data/kirby21.csv; \\\n",
        "fi\n",
        "  \n",
        "df = pd.read_csv(\"/content/kirby21.csv\")"
      ],
      "execution_count": 0,
      "outputs": [
        {
          "output_type": "stream",
          "text": [
            "kirby21.csv  sample_data\n"
          ],
          "name": "stdout"
        }
      ]
    },
    {
      "cell_type": "code",
      "metadata": {
        "id": "p1029FhrQY-H",
        "colab_type": "code",
        "colab": {}
      },
      "source": [
        "import pandas as pd\n",
        "import numpy as np"
      ],
      "execution_count": 0,
      "outputs": []
    },
    {
      "cell_type": "code",
      "metadata": {
        "id": "DIExpMttYmfk",
        "colab_type": "code",
        "outputId": "a713b082-6032-41e5-c553-32bbb53c908c",
        "colab": {
          "base_uri": "https://localhost:8080/",
          "height": 204
        }
      },
      "source": [
        "df = df.drop(['Unnamed: 0', 'rawid', 'min', 'max'],\\\n",
        "             axis = 1)\n",
        "df.head(5)"
      ],
      "execution_count": 0,
      "outputs": [
        {
          "output_type": "execute_result",
          "data": {
            "text/html": [
              "<div>\n",
              "<style scoped>\n",
              "    .dataframe tbody tr th:only-of-type {\n",
              "        vertical-align: middle;\n",
              "    }\n",
              "\n",
              "    .dataframe tbody tr th {\n",
              "        vertical-align: top;\n",
              "    }\n",
              "\n",
              "    .dataframe thead th {\n",
              "        text-align: right;\n",
              "    }\n",
              "</style>\n",
              "<table border=\"1\" class=\"dataframe\">\n",
              "  <thead>\n",
              "    <tr style=\"text-align: right;\">\n",
              "      <th></th>\n",
              "      <th>roi</th>\n",
              "      <th>volume</th>\n",
              "      <th>mean</th>\n",
              "      <th>std</th>\n",
              "      <th>type</th>\n",
              "      <th>level</th>\n",
              "      <th>id</th>\n",
              "      <th>icv</th>\n",
              "      <th>tbv</th>\n",
              "    </tr>\n",
              "  </thead>\n",
              "  <tbody>\n",
              "    <tr>\n",
              "      <th>0</th>\n",
              "      <td>Telencephalon_L</td>\n",
              "      <td>531111</td>\n",
              "      <td>128.3013</td>\n",
              "      <td>51.8593</td>\n",
              "      <td>1</td>\n",
              "      <td>1</td>\n",
              "      <td>127</td>\n",
              "      <td>1378295</td>\n",
              "      <td>1268519</td>\n",
              "    </tr>\n",
              "    <tr>\n",
              "      <th>1</th>\n",
              "      <td>Telencephalon_R</td>\n",
              "      <td>543404</td>\n",
              "      <td>135.0683</td>\n",
              "      <td>53.6471</td>\n",
              "      <td>1</td>\n",
              "      <td>1</td>\n",
              "      <td>127</td>\n",
              "      <td>1378295</td>\n",
              "      <td>1268519</td>\n",
              "    </tr>\n",
              "    <tr>\n",
              "      <th>2</th>\n",
              "      <td>Diencephalon_L</td>\n",
              "      <td>9683</td>\n",
              "      <td>193.5488</td>\n",
              "      <td>32.2733</td>\n",
              "      <td>1</td>\n",
              "      <td>1</td>\n",
              "      <td>127</td>\n",
              "      <td>1378295</td>\n",
              "      <td>1268519</td>\n",
              "    </tr>\n",
              "    <tr>\n",
              "      <th>3</th>\n",
              "      <td>Diencephalon_R</td>\n",
              "      <td>9678</td>\n",
              "      <td>193.7051</td>\n",
              "      <td>32.7869</td>\n",
              "      <td>1</td>\n",
              "      <td>1</td>\n",
              "      <td>127</td>\n",
              "      <td>1378295</td>\n",
              "      <td>1268519</td>\n",
              "    </tr>\n",
              "    <tr>\n",
              "      <th>4</th>\n",
              "      <td>Mesencephalon</td>\n",
              "      <td>10268</td>\n",
              "      <td>230.8583</td>\n",
              "      <td>29.2249</td>\n",
              "      <td>1</td>\n",
              "      <td>1</td>\n",
              "      <td>127</td>\n",
              "      <td>1378295</td>\n",
              "      <td>1268519</td>\n",
              "    </tr>\n",
              "  </tbody>\n",
              "</table>\n",
              "</div>"
            ],
            "text/plain": [
              "               roi  volume      mean      std  ...  level   id      icv      tbv\n",
              "0  Telencephalon_L  531111  128.3013  51.8593  ...      1  127  1378295  1268519\n",
              "1  Telencephalon_R  543404  135.0683  53.6471  ...      1  127  1378295  1268519\n",
              "2   Diencephalon_L    9683  193.5488  32.2733  ...      1  127  1378295  1268519\n",
              "3   Diencephalon_R    9678  193.7051  32.7869  ...      1  127  1378295  1268519\n",
              "4    Mesencephalon   10268  230.8583  29.2249  ...      1  127  1378295  1268519\n",
              "\n",
              "[5 rows x 9 columns]"
            ]
          },
          "metadata": {
            "tags": []
          },
          "execution_count": 69
        }
      ]
    },
    {
      "cell_type": "code",
      "metadata": {
        "id": "zCXgew-JYpBR",
        "colab_type": "code",
        "colab": {}
      },
      "source": [
        "## Extract the Type 1 Level 1 data\n",
        "t1l1 = df.loc[(df.type == 1) & (df.level == 1)]"
      ],
      "execution_count": 0,
      "outputs": []
    },
    {
      "cell_type": "code",
      "metadata": {
        "id": "m9V3Q5xRYptj",
        "colab_type": "code",
        "colab": {}
      },
      "source": [
        "xlist = df[df['roi'] == 'Diencephalon_L']['volume']\n",
        "ylist = df[df['roi'] == 'Diencephalon_R']['volume']"
      ],
      "execution_count": 0,
      "outputs": []
    },
    {
      "cell_type": "code",
      "metadata": {
        "id": "AU0N9cwfZoR1",
        "colab_type": "code",
        "outputId": "3a9b219f-281c-49a3-ccc2-5b2853ee83cb",
        "colab": {
          "base_uri": "https://localhost:8080/",
          "height": 301
        }
      },
      "source": [
        "import matplotlib.pyplot as plt\n",
        "\n",
        "plt.scatter(xlist, ylist, c='b', alpha = 0.6)\n",
        "plt.xlabel('Diencephalon_L volume')\n",
        "plt.ylabel('Diencephalon_R volume')"
      ],
      "execution_count": 0,
      "outputs": [
        {
          "output_type": "execute_result",
          "data": {
            "text/plain": [
              "Text(0, 0.5, 'Diencephalon_R volume')"
            ]
          },
          "metadata": {
            "tags": []
          },
          "execution_count": 81
        },
        {
          "output_type": "display_data",
          "data": {
            "image/png": "[encoded data removed]",
            "text/plain": [
              "<Figure size 432x288 with 1 Axes>"
            ]
          },
          "metadata": {
            "tags": []
          }
        }
      ]
    },
    {
      "cell_type": "code",
      "metadata": {
        "id": "xq1XJnF7Zu2U",
        "colab_type": "code",
        "outputId": "38835a26-5462-4c0e-eff6-9bd2826cfd8f",
        "colab": {
          "base_uri": "https://localhost:8080/",
          "height": 301
        }
      },
      "source": [
        "x_mean = df[df['roi'] == 'Diencephalon_L']['mean']\n",
        "y_mean = df[df['roi'] == 'Diencephalon_R']['mean']\n",
        "\n",
        "x_new = xlist - x_mean\n",
        "y_new = ylist - y_mean\n",
        "\n",
        "plt.scatter(x_new, y_new, c='g', alpha = 0.6)\n",
        "plt.xlabel('Diencephalon_L demean volume')\n",
        "plt.ylabel('Diencephalon_R demean volume')\n",
        "\n",
        "from pylab import * \n",
        "\n",
        "m,b = polyfit(x_new, y_new, 1) \n",
        "\n",
        "plot(x_new, y_new, 'yo', x_new, m*x_new+b, '--k') \n",
        "plt.show() \n",
        "print('slope: ', m)\n"
      ],
      "execution_count": 0,
      "outputs": [
        {
          "output_type": "display_data",
          "data": {
            "image/png": "[encoded data removed]",
            "text/plain": [
              "<Figure size 432x288 with 1 Axes>"
            ]
          },
          "metadata": {
            "tags": []
          }
        },
        {
          "output_type": "stream",
          "text": [
            "slope:  0.8709409773903897\n"
          ],
          "name": "stdout"
        }
      ]
    },
    {
      "cell_type": "code",
      "metadata": {
        "id": "LrBoVJq_aXIp",
        "colab_type": "code",
        "outputId": "d8ba4791-8c95-42b6-954f-338bba66a520",
        "colab": {
          "base_uri": "https://localhost:8080/",
          "height": 301
        }
      },
      "source": [
        "y_new = xlist - x_mean\n",
        "x_new = ylist - y_mean\n",
        "\n",
        "plt.scatter(x_new, y_new, c='g', alpha = 0.6)\n",
        "plt.xlabel('Diencephalon_R demean volume')\n",
        "plt.ylabel('Diencephalon_L demean volume')\n",
        "\n",
        "m,b = polyfit(x_new, y_new, 1) \n",
        "\n",
        "plot(x_new, y_new, 'yo', x_new, m*x_new+b, '--k') \n",
        "plt.show() \n",
        "print('slope: ', m)"
      ],
      "execution_count": 0,
      "outputs": [
        {
          "output_type": "display_data",
          "data": {
            "image/png": "[encoded data removed]",
            "text/plain": [
              "<Figure size 432x288 with 1 Axes>"
            ]
          },
          "metadata": {
            "tags": []
          }
        },
        {
          "output_type": "stream",
          "text": [
            "slope:  1.0678629204276875\n"
          ],
          "name": "stdout"
        }
      ]
    }
  ]
}